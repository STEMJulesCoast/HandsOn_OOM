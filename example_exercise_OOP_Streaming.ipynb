{
 "cells": [
  {
   "cell_type": "markdown",
   "metadata": {},
   "source": [
    "## Objektorientierte Programmierung \n",
    "\n",
    "In diesem Notebook befassen wir uns mit dem Konzept der objektorientierten Programmierung. \n",
    "Wir konzentrieren uns auf die Nutzung von Vererbung und Polymorphismus, um unsere Softwarelösung durch die Definition von Subklassen zu erweitern. \n",
    "Diese Techniken ermöglichen es uns, bestehende Klassenfunktionalitäten zu nutzen und gleichzeitig spezifische Verhaltensweisen und Eigenschaften hinzuzufügen, die auf bestimmte Anwendungsfälle zugeschnitten sind.\n",
    "\n",
    "\n",
    "# Streaming-Dienst Beispiel\n",
    "\n",
    "In diesem Beispiel wird ein Streaming-Dienst (`NATflix`) erstellt, der es ermöglicht, Nutzer:innen hinzuzufügen und ihnen Medieninhalte (Filme und Musik) zur Verfügung zu stellen.\n",
    "\n",
    "## Verwendete Dateien\n",
    "\n",
    "- **Beispiel_Film.mp4**: Ein kurzes Video, das von Pexels stammt und zur Demonstration der Video-Abspielfunktion genutzt wird.\n",
    "- **Beispiel_Musik.mp3**: Ein kurzes Musikstück von AudioFire, das zur Demonstration der Audio-Abspielfunktion verwendet wird.\n",
    "\n",
    "## Schritte im Skript\n",
    "\n",
    "1. **Klassen erstellen**: Die Klassen `StreamingDienst`, `User` und `Medien` werden erstellt.\n",
    "2. **StreamingDienst**: Der Streaming-Dienst `NATflix` wird erstellt.\n",
    "3. **Nutzer:innen hinzufügen**: Zwei Nutzer:innen (`Alex Beispiel` und `Taylor Example`) werden dem Dienst hinzugefügt.\n",
    "4. **Subklassen erstellen**: Die Subklassen `Musik` und `Film` werden erstellt. Diese erben von der Klasse `Medien` und erweitern die Methode `abspielen` aus der Basisklasse `Medien`\n",
    "3. **Medien hinzufügen und abspielen**: Ein Film und ein Musikstück werden der Mediathek hinzugefügt und anschließend abgespielt.\n",
    "\n",
    "Um das Video anzusehen oder die Musik anzuhören, kann das Programm gestartet werden, und die entsprechenden Dateien werden abgespielt.\n",
    "\n"
   ]
  },
  {
   "cell_type": "code",
   "execution_count": null,
   "metadata": {},
   "outputs": [],
   "source": [
    "# run the cell\n",
    "# Import necessary libraries\n",
    "import cv2  # For video playback\n",
    "import pygame  # For audio playback\n",
    "\n",
    "# Definition of the streaming service\n",
    "class StreamingDienst:\n",
    "    def __init__(self, name):\n",
    "        # Initialize the attributes of the account\n",
    "        self.name = name\n",
    "        self.user_liste = []\n",
    "        self.mediathek = []\n",
    "\n",
    "    def userHinzufuegen(self, user):\n",
    "        # Add a user to the streaming service\n",
    "        self.user_liste.append(user)\n",
    "        print(f\"User {user.username} was added to the streaming service {self.name}.\")\n",
    "    \n",
    "    def userEntfernen(self, user):\n",
    "        # Add a user to the streaming service\n",
    "        self.user_liste.remove(user)\n",
    "        print(f\"User {user.username} was removed from the streaming service {self.name}.\")\n",
    "\n",
    "    def medienHinzufuegen(self, medien):\n",
    "        # Add media to the mediathek\n",
    "        self.mediathek.append(medien)\n",
    "        print(f\"{medien.titel} was added to the mediathek.\")\n",
    "\n",
    "    def medienEntfernen(self, medien):\n",
    "        # Add media to the mediathek\n",
    "        self.mediathek.remove(medien)\n",
    "        print(f\"{medien.titel} was removed from the mediathek.\")\n",
    "\n",
    "    def medienDurchsuchen(self, titel):\n",
    "        # Search for media in the mediathek and return it\n",
    "        for medien in self.mediathek:\n",
    "            if medien.titel == titel:\n",
    "                return medien\n",
    "        print(f\"{titel} was not found in the mediathek.\")\n",
    "        return None\n",
    "    \n",
    "    def abspielen(self, medien):\n",
    "        medien.abspielen()\n",
    "\n",
    "    def stoppen(self, medien):\n",
    "        medien.stoppen()\n",
    "\n",
    "# Definition of the User class\n",
    "class User:\n",
    "    def __init__(self, username, email):\n",
    "        self.username = username\n",
    "        self.email = email\n",
    "        self.watchlist = []  # List to store media\n",
    "\n",
    "\n",
    "    def medienHinzufuegen(self, medien):\n",
    "        self.watchlist.append(medien)\n",
    "        print(f\"{medien.titel} was added to {self.username}'s watchlist.\")    \n",
    "        \n",
    "    def medienDurchsuchen(self, streamingDienst, titel):\n",
    "        return streamingDienst.medienDurchsuchen(titel)\n",
    "\n",
    "    def abspielen(self, medien):\n",
    "        # Play media from the watchlist or directly from the mediathek\n",
    "        if medien in self.watchlist:\n",
    "            medien.abspielen()\n",
    "        else:\n",
    "            print(f\"{medien.titel} is not in {self.username}'s watchlist. Trying to play directly from mediathek.\")\n",
    "            medien.abspielen()\n",
    "\n",
    "    def stoppen(self, medien):\n",
    "        medien.stoppen()\n",
    "\n",
    "    # Definition of the Medien class\n",
    "class Medien:\n",
    "    def __init__(self, titel, dauer):\n",
    "        # Initialize media attributes\n",
    "        self.titel = titel\n",
    "        self.dauer = dauer\n",
    "\n",
    "    def abspielen(self):\n",
    "        # Default play method for media\n",
    "        print(f\"Playing {self.titel}.\")\n",
    "    \n",
    "    def detailsAnzeigen(self):\n",
    "        # Display details about the media, such as the duration\n",
    "        print(f\"Title: {self.titel}, Duration: {self.dauer} minutes\")\n",
    "\n",
    "    def bewerten(self, bewertung):\n",
    "        # Rate the media\n",
    "        print(f\"Rating {self.titel} with {bewertung} stars\")\n",
    "    \n",
    "    def stoppen(self):\n",
    "        print(f\"Stopping {self.titel}.\")\n",
    "        self.is_playing = False  # Reset playing status\n",
    "\n",
    "\n",
    "\n"
   ]
  },
  {
   "cell_type": "markdown",
   "metadata": {},
   "source": [
    "Im folgenden erstellen wir den Streaming-Dienst `NATflix` und fügen zwei User hinzu."
   ]
  },
  {
   "cell_type": "code",
   "execution_count": null,
   "metadata": {},
   "outputs": [],
   "source": [
    "# run the cell\n",
    "\n",
    "# Step 1: Create the streaming service and add users\n",
    "natflix = StreamingDienst(\"NATflix\")\n",
    "user1 = User(\"Alex Beispiel\", \"alex@beispiel.com\")\n",
    "user2 = User(\"Taylor Example\", \"taylor@example.com\")\n",
    "\n",
    "natflix.userHinzufuegen(user1)\n",
    "natflix.userHinzufuegen(user2)\n",
    "\n"
   ]
  },
  {
   "cell_type": "markdown",
   "metadata": {},
   "source": [
    "User können über `userEntfernen()` auch wieder entfernt werden. In der folgenden Code-Zelle entfernen wir testweise `Taylor Example` und fügen die Person wieder hinzu."
   ]
  },
  {
   "cell_type": "code",
   "execution_count": null,
   "metadata": {},
   "outputs": [],
   "source": [
    "# run the cell\n",
    "natflix.userEntfernen(user2)\n",
    "natflix.userHinzufuegen(user2)"
   ]
  },
  {
   "cell_type": "markdown",
   "metadata": {},
   "source": [
    "\n",
    "Bevor wir die Subklassen `Musik` und `Film` definieren, betrachten wir, wie sie von der Basisklasse `Medien` erben und zusätzliche Funktionalitäten einführen, die speziell für die jeweiligen Medientypen gelten. Wir überschreiben die Methoden `abspielen()` und `stoppen()` aus der Basisklasse `Medien` und fügen beispielsweise die methode `liedtextAnzeigen()` hinzu.\n",
    "\n",
    "\n",
    "Hier folgt die Implementierung der beiden Subklassen:"
   ]
  },
  {
   "cell_type": "code",
   "execution_count": null,
   "metadata": {},
   "outputs": [],
   "source": [
    "# run the cell\n",
    "\n",
    "\n",
    "# Subclass Film that inherits from Medien\n",
    "class Film(Medien):\n",
    "    def __init__(self, titel, dauer, regie, altersfreigabe, file_path):\n",
    "        # Initialize Film-specific attributes\n",
    "        super().__init__(titel, dauer)\n",
    "        self.regie = regie\n",
    "        self.altersfreigabe = altersfreigabe\n",
    "        self.file_path = file_path\n",
    "\n",
    "    def abspielen(self):\n",
    "        # Override the inherited abspielen() method to play a movie as a video stream\n",
    "        print(f\"Playing the movie {self.titel} directed by {self.regie} as a video stream.\")\n",
    "        # Use OpenCV to play the video\n",
    "        cap = cv2.VideoCapture(self.file_path)\n",
    "        while(cap.isOpened()):\n",
    "            ret, frame = cap.read()\n",
    "            if ret:\n",
    "                cv2.imshow('Video', frame)\n",
    "                if cv2.waitKey(25) & 0xFF == ord('q'):\n",
    "                    break\n",
    "            else:\n",
    "                break\n",
    "        cap.release()\n",
    "        cv2.destroyAllWindows()\n",
    "\n",
    "    \n",
    "\n",
    "\n",
    "# Subclass Musik that inherits from Medien\n",
    "class Musik(Medien):\n",
    "    def __init__(self, titel, dauer, artist, file_path, lied_text=None):\n",
    "        # Initialize Musik-specific attributes\n",
    "        super().__init__(titel, dauer)\n",
    "        self.artist = artist\n",
    "        self.file_path = file_path\n",
    "        self.lied_text = lied_text\n",
    "\n",
    "    def abspielen(self):\n",
    "        # # Override the inherited abspielen() method to play a music track as an audio stream\n",
    "        print(f\"Playing the music {self.titel} by {self.artist} as an audio stream.\")\n",
    "        # Use Pygame to play the audio\n",
    "        pygame.mixer.init()\n",
    "        pygame.mixer.music.load(self.file_path)\n",
    "        pygame.mixer.music.play()\n",
    "        \n",
    "    def stoppen(self):\n",
    "        print(f\"Stopping the music {self.titel}.\")\n",
    "        pygame.mixer.music.stop()\n",
    "            \n",
    "    def liedTextanzeigen(self):\n",
    "        # Display the lyrics of the song\n",
    "        if self.lied_text:\n",
    "            print(f\"Lyrics of {self.titel}: {self.lied_text}\")\n",
    "        else:\n",
    "            print(f\"No lyrics available for {self.titel}.\")"
   ]
  },
  {
   "cell_type": "markdown",
   "metadata": {},
   "source": [
    "Wir fügen nun ein kurzes Video und ein Musikstück der NATflix-Mediathek hinzu. "
   ]
  },
  {
   "cell_type": "code",
   "execution_count": null,
   "metadata": {},
   "outputs": [],
   "source": [
    "# run the cell\n",
    "\n",
    "# Add media to the mediathek\n",
    "film1 = Film(\"Fahrrad fahren\", 0.1833, \"Pexel\", 0, \"Beispiel_Film.mp4\")\n",
    "musik1 = Musik(\"Sea and Sand\", 2.15, \"Audiofire\", \"Beispiel_Musik.mp3\", \"This is an example of lyrics.\")\n",
    "\n",
    "natflix.medienHinzufuegen(film1)\n",
    "natflix.medienHinzufuegen(musik1)\n"
   ]
  },
  {
   "cell_type": "markdown",
   "metadata": {},
   "source": [
    "und können den Film abspielen. Dafür sollte sich ein neues Fenster öffnen."
   ]
  },
  {
   "cell_type": "code",
   "execution_count": null,
   "metadata": {},
   "outputs": [],
   "source": [
    "# run the cell\n",
    "natflix.abspielen(film1)"
   ]
  },
  {
   "cell_type": "markdown",
   "metadata": {},
   "source": [
    "Im folgenden durchsucht ein user die Mediathek nach einem bestimmten Song und spielt diesen ab."
   ]
  },
  {
   "cell_type": "code",
   "execution_count": null,
   "metadata": {},
   "outputs": [],
   "source": [
    "# run the cell\n",
    "\n",
    "# User searches the media library of the streaming service and plays the found media\n",
    "gefundene_medien = natflix.medienDurchsuchen(\"Sea and Sand\")\n",
    "natflix.abspielen(gefundene_medien)"
   ]
  },
  {
   "cell_type": "markdown",
   "metadata": {},
   "source": [
    "Der Song kann auch gestoppt werden:"
   ]
  },
  {
   "cell_type": "code",
   "execution_count": null,
   "metadata": {},
   "outputs": [],
   "source": [
    "# run the cell\n",
    "natflix.stoppen(musik1)"
   ]
  },
  {
   "cell_type": "code",
   "execution_count": null,
   "metadata": {},
   "outputs": [],
   "source": [
    "# Showing the Details\n",
    "musik1.detailsAnzeigen()\n",
    "film1.detailsAnzeigen()"
   ]
  },
  {
   "cell_type": "markdown",
   "metadata": {},
   "source": [
    "Bisher wurde alles direkt aus der Mediathek abgespielt. Wie oben in der Klasse User zu sehen, können aber auch Medien direkt der userspezifischen Watchlist zugefügt werden. Dafür nutzen wir folgenden Befehl:"
   ]
  },
  {
   "cell_type": "code",
   "execution_count": null,
   "metadata": {},
   "outputs": [],
   "source": [
    "# run the cell\n",
    "\n",
    "# Adding music to the watchlist\n",
    "user1.medienHinzufuegen(musik1)"
   ]
  },
  {
   "cell_type": "markdown",
   "metadata": {},
   "source": [
    "Mit diesem Befehl kann ein User ein Medium direkt seiner persönlichen Watchlist hinzufügen. Das Medium wird damit nicht nur in der Mediathek des Streaming-Dienstes gespeichert, sondern auch speziell für den User verfügbar gemacht. Dadurch können Nutzer:innen ihre eigenen Playlists oder Listen erstellen, die sie später abspielen möchten, ohne erneut in der Mediathek danach suchen zu müssen."
   ]
  },
  {
   "cell_type": "code",
   "execution_count": null,
   "metadata": {},
   "outputs": [],
   "source": [
    "# run the cell\n",
    "user1.abspielen(musik1)"
   ]
  },
  {
   "cell_type": "code",
   "execution_count": null,
   "metadata": {},
   "outputs": [],
   "source": [
    "# run the cell\n",
    "user1.stoppen(musik1)"
   ]
  },
  {
   "cell_type": "markdown",
   "metadata": {},
   "source": [
    "Zusätzlich können weitere Informationen zu den Medien angezeigt werden und diese auch bewertet werden:\n"
   ]
  },
  {
   "cell_type": "code",
   "execution_count": null,
   "metadata": {},
   "outputs": [],
   "source": [
    "# run the cell\n",
    "\n",
    "# Display lyrics\n",
    "musik1.liedTextanzeigen()\n",
    "\n",
    "# Rate the media\n",
    "film1.bewerten(5)\n",
    "musik1.bewerten(4)"
   ]
  },
  {
   "cell_type": "markdown",
   "metadata": {},
   "source": [
    "Nun haben wir einen kleinen Streaming-Dienst namens NATflix modelliert und implementiert. Das Modell ist so aufgebaut, dass es leicht erweitert werden kann, ohne den vorhandenen Code anpassen zu müssen.\n",
    "\n",
    "Als Übung kannst du nun eine eigene Subklasse erstellen, zum Beispiel ein Familienkonto. In diesem speziellen Konto könnten automatisch alle Filme gesammelt werden, die eine Altersfreigabe bis 12 Jahren haben. Diese Subklasse könnte dafür sorgen, dass nur altersgerechte Inhalte in der Watchlist erscheinen.\n",
    "\n",
    "\n",
    "### Übung:\n",
    "Erstelle eine neue Subklasse Familienkonto, die von der User-Klasse erbt. Diese Subklasse sollte eine spezielle Watchlist für familienfreundliche Inhalte (Filme mit einer Altersfreigabe bis 12 Jahren) enthalten. Stelle sicher, dass nur solche Filme in die Watchlist aufgenommen werden können.\n",
    "\n",
    "Hilfestellung:\n",
    "\n",
    "- Nutze die Vererbung, um von der User-Klasse zu erben.\n",
    "- Implementiere die Methode medienHinzufuegen(medien), die überprüft, ob die Altersfreigabe des Films 12 Jahre oder weniger beträgt, bevor er zur Watchlist hinzugefügt wird.\n",
    "\n",
    "Teste gerne mit Beispiel_Film.mp4, ob dein Code funktioniert. Dafür kannst du unser Beispielvideo mit der Altersfreigabe 16 als film2 hinzufügen.\n",
    "\n",
    "- `film2= Film(\"Fahrrad fahren Test Alter\", 0.1833, \"Pexel\", 16, \"Beispiel_Film.mp4\")`\n",
    "\n",
    "- `familien_user.medienHinzufuegen(film2)`\n",
    "\n",
    "und einen `familien_user` erstellen. Wenn dein Code funktioniert, sollte film2 der Watchlist nicht zuzufügen sein."
   ]
  },
  {
   "cell_type": "code",
   "execution_count": null,
   "metadata": {},
   "outputs": [],
   "source": [
    "# your code here\n",
    "class Familienkonto(User):\n",
    "    #....\n"
   ]
  },
  {
   "cell_type": "code",
   "execution_count": null,
   "metadata": {},
   "outputs": [],
   "source": [
    "# test\n"
   ]
  },
  {
   "cell_type": "markdown",
   "metadata": {},
   "source": [
    "Du kannst den einzelnen Klassen auch noch Atrribute zufügen, wie zum Beispiel das Genre des Films oder Musikstückes. Probier das gerne aus und experimentiere mit den Code-Snippets.\n",
    "    "
   ]
  }
 ],
 "metadata": {
  "kernelspec": {
   "display_name": ".venv",
   "language": "python",
   "name": "python3"
  },
  "language_info": {
   "codemirror_mode": {
    "name": "ipython",
    "version": 3
   },
   "file_extension": ".py",
   "mimetype": "text/x-python",
   "name": "python",
   "nbconvert_exporter": "python",
   "pygments_lexer": "ipython3",
   "version": "3.12.2"
  }
 },
 "nbformat": 4,
 "nbformat_minor": 2
}
